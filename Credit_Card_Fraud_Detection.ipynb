{
  "nbformat": 4,
  "nbformat_minor": 0,
  "metadata": {
    "colab": {
      "name": "Credit Card Fraud Detection.ipynb",
      "provenance": [],
      "mount_file_id": "1Z4ZI_Wspnv7XBYN7cB6ajN1NCO8y3lcW",
      "authorship_tag": "ABX9TyODsv9/j71Jq9aofeUq7v4G",
      "include_colab_link": true
    },
    "kernelspec": {
      "display_name": "Python 3",
      "name": "python3"
    },
    "language_info": {
      "name": "python"
    }
  },
  "cells": [
    {
      "cell_type": "markdown",
      "metadata": {
        "id": "view-in-github",
        "colab_type": "text"
      },
      "source": [
        "<a href=\"https://colab.research.google.com/github/sai-sudo/TECH-A-THON-Decode_Apocalypse/blob/main/Credit_Card_Fraud_Detection.ipynb\" target=\"_parent\"><img src=\"https://colab.research.google.com/assets/colab-badge.svg\" alt=\"Open In Colab\"/></a>"
      ]
    },
    {
      "cell_type": "markdown",
      "metadata": {
        "id": "JKn3SxJj5Bc0"
      },
      "source": [
        "# **Credit Card Fraud Detection and Analysis**"
      ]
    },
    {
      "cell_type": "markdown",
      "metadata": {
        "id": "RZCqm0oj41aE"
      },
      "source": [
        "# **Team Name:** Decode Apocalypse\n",
        "\n",
        "\n",
        "---\n",
        "**Team Leader**: Swarnim Kamal\n",
        "\n",
        "Email: swarnimkamal9@gmail.com\n",
        "\n",
        "**Team Members:** \n",
        "\n",
        "1.   Sai Ishwaram\n",
        "\n",
        "    Email:- saiishwaram20@gmail.com\n",
        "2.   Kajal Kiran\n",
        "\n",
        "    Email:-kajalkiran191@gmail.com\n",
        "\n"
      ]
    },
    {
      "cell_type": "markdown",
      "metadata": {
        "id": "ZAqvxoJD960Q"
      },
      "source": [
        "![credit-card-fraud.png](data:image/png;base64,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)"
      ]
    },
    {
      "cell_type": "markdown",
      "metadata": {
        "id": "kPlRimStDVx2"
      },
      "source": [
        "**Introduction**"
      ]
    },
    {
      "cell_type": "markdown",
      "metadata": {
        "id": "XjDOYVdmDaNK"
      },
      "source": [
        "Credit Card fraud has increased immensely as we dive deep into the digital world. Detecting these fraud patterns is a very difficult job for human analysts as well as normal Detection Algorithms."
      ]
    },
    {
      "cell_type": "markdown",
      "metadata": {
        "id": "RZ-wIwdhEV2G"
      },
      "source": [
        "**When does a credit card fraud occur?**\n"
      ]
    },
    {
      "cell_type": "markdown",
      "metadata": {
        "id": "7DtTEUROEiJ7"
      },
      "source": [
        "Credit card fraud occurs when consumers give their credit card number to unfamiliar individuals, when cards are lost or stolen, when mail is diverted from the intended recipient and taken by criminals, or when employees of a business copy the cards or card numbers of a cardholder.\n",
        "\n",
        "---\n",
        "\n",
        "\n",
        "In this notebook we will develop varoius ML models using anonymized credit card transaction data. The challenge behind fraud detection is that frauds are far less common as compared to legal transactions. "
      ]
    },
    {
      "cell_type": "markdown",
      "metadata": {
        "id": "5sgnAe6mE_ta"
      },
      "source": [
        "**Loading Libraries**"
      ]
    },
    {
      "cell_type": "code",
      "metadata": {
        "id": "DOQr5ush4SXg"
      },
      "source": [
        "import numpy as np\n",
        "import pandas as pd\n",
        "import matplotlib.pyplot as plt\n",
        "import seaborn as sns\n",
        "import warnings\n",
        "%matplotlib inline\n",
        "warnings.filterwarnings(\"ignore\")"
      ],
      "execution_count": 1,
      "outputs": []
    },
    {
      "cell_type": "markdown",
      "metadata": {
        "id": "QLoUmM9_GA_2"
      },
      "source": [
        "**`Numerical Analysis of the CSV File`**"
      ]
    },
    {
      "cell_type": "code",
      "metadata": {
        "id": "9MwFH80nBSnV"
      },
      "source": [
        "df=pd.read_csv('/content/drive/MyDrive/creditcard.csv')"
      ],
      "execution_count": 2,
      "outputs": []
    },
    {
      "cell_type": "code",
      "metadata": {
        "colab": {
          "base_uri": "https://localhost:8080/",
          "height": 226
        },
        "id": "gl2esoP4Fw5i",
        "outputId": "cca11a4f-b18a-4d6c-c777-9d2168d61e28"
      },
      "source": [
        "df.head()"
      ],
      "execution_count": 3,
      "outputs": [
        {
          "output_type": "execute_result",
          "data": {
            "text/html": [
              "<div>\n",
              "<style scoped>\n",
              "    .dataframe tbody tr th:only-of-type {\n",
              "        vertical-align: middle;\n",
              "    }\n",
              "\n",
              "    .dataframe tbody tr th {\n",
              "        vertical-align: top;\n",
              "    }\n",
              "\n",
              "    .dataframe thead th {\n",
              "        text-align: right;\n",
              "    }\n",
              "</style>\n",
              "<table border=\"1\" class=\"dataframe\">\n",
              "  <thead>\n",
              "    <tr style=\"text-align: right;\">\n",
              "      <th></th>\n",
              "      <th>Time</th>\n",
              "      <th>V1</th>\n",
              "      <th>V2</th>\n",
              "      <th>V3</th>\n",
              "      <th>V4</th>\n",
              "      <th>V5</th>\n",
              "      <th>V6</th>\n",
              "      <th>V7</th>\n",
              "      <th>V8</th>\n",
              "      <th>V9</th>\n",
              "      <th>V10</th>\n",
              "      <th>V11</th>\n",
              "      <th>V12</th>\n",
              "      <th>V13</th>\n",
              "      <th>V14</th>\n",
              "      <th>V15</th>\n",
              "      <th>V16</th>\n",
              "      <th>V17</th>\n",
              "      <th>V18</th>\n",
              "      <th>V19</th>\n",
              "      <th>V20</th>\n",
              "      <th>V21</th>\n",
              "      <th>V22</th>\n",
              "      <th>V23</th>\n",
              "      <th>V24</th>\n",
              "      <th>V25</th>\n",
              "      <th>V26</th>\n",
              "      <th>V27</th>\n",
              "      <th>V28</th>\n",
              "      <th>Amount</th>\n",
              "      <th>Class</th>\n",
              "    </tr>\n",
              "  </thead>\n",
              "  <tbody>\n",
              "    <tr>\n",
              "      <th>0</th>\n",
              "      <td>0.0</td>\n",
              "      <td>-1.359807</td>\n",
              "      <td>-0.072781</td>\n",
              "      <td>2.536347</td>\n",
              "      <td>1.378155</td>\n",
              "      <td>-0.338321</td>\n",
              "      <td>0.462388</td>\n",
              "      <td>0.239599</td>\n",
              "      <td>0.098698</td>\n",
              "      <td>0.363787</td>\n",
              "      <td>0.090794</td>\n",
              "      <td>-0.551600</td>\n",
              "      <td>-0.617801</td>\n",
              "      <td>-0.991390</td>\n",
              "      <td>-0.311169</td>\n",
              "      <td>1.468177</td>\n",
              "      <td>-0.470401</td>\n",
              "      <td>0.207971</td>\n",
              "      <td>0.025791</td>\n",
              "      <td>0.403993</td>\n",
              "      <td>0.251412</td>\n",
              "      <td>-0.018307</td>\n",
              "      <td>0.277838</td>\n",
              "      <td>-0.110474</td>\n",
              "      <td>0.066928</td>\n",
              "      <td>0.128539</td>\n",
              "      <td>-0.189115</td>\n",
              "      <td>0.133558</td>\n",
              "      <td>-0.021053</td>\n",
              "      <td>149.62</td>\n",
              "      <td>0</td>\n",
              "    </tr>\n",
              "    <tr>\n",
              "      <th>1</th>\n",
              "      <td>0.0</td>\n",
              "      <td>1.191857</td>\n",
              "      <td>0.266151</td>\n",
              "      <td>0.166480</td>\n",
              "      <td>0.448154</td>\n",
              "      <td>0.060018</td>\n",
              "      <td>-0.082361</td>\n",
              "      <td>-0.078803</td>\n",
              "      <td>0.085102</td>\n",
              "      <td>-0.255425</td>\n",
              "      <td>-0.166974</td>\n",
              "      <td>1.612727</td>\n",
              "      <td>1.065235</td>\n",
              "      <td>0.489095</td>\n",
              "      <td>-0.143772</td>\n",
              "      <td>0.635558</td>\n",
              "      <td>0.463917</td>\n",
              "      <td>-0.114805</td>\n",
              "      <td>-0.183361</td>\n",
              "      <td>-0.145783</td>\n",
              "      <td>-0.069083</td>\n",
              "      <td>-0.225775</td>\n",
              "      <td>-0.638672</td>\n",
              "      <td>0.101288</td>\n",
              "      <td>-0.339846</td>\n",
              "      <td>0.167170</td>\n",
              "      <td>0.125895</td>\n",
              "      <td>-0.008983</td>\n",
              "      <td>0.014724</td>\n",
              "      <td>2.69</td>\n",
              "      <td>0</td>\n",
              "    </tr>\n",
              "    <tr>\n",
              "      <th>2</th>\n",
              "      <td>1.0</td>\n",
              "      <td>-1.358354</td>\n",
              "      <td>-1.340163</td>\n",
              "      <td>1.773209</td>\n",
              "      <td>0.379780</td>\n",
              "      <td>-0.503198</td>\n",
              "      <td>1.800499</td>\n",
              "      <td>0.791461</td>\n",
              "      <td>0.247676</td>\n",
              "      <td>-1.514654</td>\n",
              "      <td>0.207643</td>\n",
              "      <td>0.624501</td>\n",
              "      <td>0.066084</td>\n",
              "      <td>0.717293</td>\n",
              "      <td>-0.165946</td>\n",
              "      <td>2.345865</td>\n",
              "      <td>-2.890083</td>\n",
              "      <td>1.109969</td>\n",
              "      <td>-0.121359</td>\n",
              "      <td>-2.261857</td>\n",
              "      <td>0.524980</td>\n",
              "      <td>0.247998</td>\n",
              "      <td>0.771679</td>\n",
              "      <td>0.909412</td>\n",
              "      <td>-0.689281</td>\n",
              "      <td>-0.327642</td>\n",
              "      <td>-0.139097</td>\n",
              "      <td>-0.055353</td>\n",
              "      <td>-0.059752</td>\n",
              "      <td>378.66</td>\n",
              "      <td>0</td>\n",
              "    </tr>\n",
              "    <tr>\n",
              "      <th>3</th>\n",
              "      <td>1.0</td>\n",
              "      <td>-0.966272</td>\n",
              "      <td>-0.185226</td>\n",
              "      <td>1.792993</td>\n",
              "      <td>-0.863291</td>\n",
              "      <td>-0.010309</td>\n",
              "      <td>1.247203</td>\n",
              "      <td>0.237609</td>\n",
              "      <td>0.377436</td>\n",
              "      <td>-1.387024</td>\n",
              "      <td>-0.054952</td>\n",
              "      <td>-0.226487</td>\n",
              "      <td>0.178228</td>\n",
              "      <td>0.507757</td>\n",
              "      <td>-0.287924</td>\n",
              "      <td>-0.631418</td>\n",
              "      <td>-1.059647</td>\n",
              "      <td>-0.684093</td>\n",
              "      <td>1.965775</td>\n",
              "      <td>-1.232622</td>\n",
              "      <td>-0.208038</td>\n",
              "      <td>-0.108300</td>\n",
              "      <td>0.005274</td>\n",
              "      <td>-0.190321</td>\n",
              "      <td>-1.175575</td>\n",
              "      <td>0.647376</td>\n",
              "      <td>-0.221929</td>\n",
              "      <td>0.062723</td>\n",
              "      <td>0.061458</td>\n",
              "      <td>123.50</td>\n",
              "      <td>0</td>\n",
              "    </tr>\n",
              "    <tr>\n",
              "      <th>4</th>\n",
              "      <td>2.0</td>\n",
              "      <td>-1.158233</td>\n",
              "      <td>0.877737</td>\n",
              "      <td>1.548718</td>\n",
              "      <td>0.403034</td>\n",
              "      <td>-0.407193</td>\n",
              "      <td>0.095921</td>\n",
              "      <td>0.592941</td>\n",
              "      <td>-0.270533</td>\n",
              "      <td>0.817739</td>\n",
              "      <td>0.753074</td>\n",
              "      <td>-0.822843</td>\n",
              "      <td>0.538196</td>\n",
              "      <td>1.345852</td>\n",
              "      <td>-1.119670</td>\n",
              "      <td>0.175121</td>\n",
              "      <td>-0.451449</td>\n",
              "      <td>-0.237033</td>\n",
              "      <td>-0.038195</td>\n",
              "      <td>0.803487</td>\n",
              "      <td>0.408542</td>\n",
              "      <td>-0.009431</td>\n",
              "      <td>0.798278</td>\n",
              "      <td>-0.137458</td>\n",
              "      <td>0.141267</td>\n",
              "      <td>-0.206010</td>\n",
              "      <td>0.502292</td>\n",
              "      <td>0.219422</td>\n",
              "      <td>0.215153</td>\n",
              "      <td>69.99</td>\n",
              "      <td>0</td>\n",
              "    </tr>\n",
              "  </tbody>\n",
              "</table>\n",
              "</div>"
            ],
            "text/plain": [
              "   Time        V1        V2        V3  ...       V27       V28  Amount  Class\n",
              "0   0.0 -1.359807 -0.072781  2.536347  ...  0.133558 -0.021053  149.62      0\n",
              "1   0.0  1.191857  0.266151  0.166480  ... -0.008983  0.014724    2.69      0\n",
              "2   1.0 -1.358354 -1.340163  1.773209  ... -0.055353 -0.059752  378.66      0\n",
              "3   1.0 -0.966272 -0.185226  1.792993  ...  0.062723  0.061458  123.50      0\n",
              "4   2.0 -1.158233  0.877737  1.548718  ...  0.219422  0.215153   69.99      0\n",
              "\n",
              "[5 rows x 31 columns]"
            ]
          },
          "metadata": {},
          "execution_count": 3
        }
      ]
    },
    {
      "cell_type": "code",
      "metadata": {
        "colab": {
          "base_uri": "https://localhost:8080/"
        },
        "id": "smtVg9DPF4xs",
        "outputId": "5ce37ac4-a2a8-4217-a6df-bc946ae5a98a"
      },
      "source": [
        "df.shape"
      ],
      "execution_count": 4,
      "outputs": [
        {
          "output_type": "execute_result",
          "data": {
            "text/plain": [
              "(284807, 31)"
            ]
          },
          "metadata": {},
          "execution_count": 4
        }
      ]
    },
    {
      "cell_type": "code",
      "metadata": {
        "colab": {
          "base_uri": "https://localhost:8080/"
        },
        "id": "vYOmunBNU27J",
        "outputId": "24c1f728-de5a-4a4c-f49f-129586203aad"
      },
      "source": [
        "df.dtypes"
      ],
      "execution_count": 5,
      "outputs": [
        {
          "output_type": "execute_result",
          "data": {
            "text/plain": [
              "Time      float64\n",
              "V1        float64\n",
              "V2        float64\n",
              "V3        float64\n",
              "V4        float64\n",
              "V5        float64\n",
              "V6        float64\n",
              "V7        float64\n",
              "V8        float64\n",
              "V9        float64\n",
              "V10       float64\n",
              "V11       float64\n",
              "V12       float64\n",
              "V13       float64\n",
              "V14       float64\n",
              "V15       float64\n",
              "V16       float64\n",
              "V17       float64\n",
              "V18       float64\n",
              "V19       float64\n",
              "V20       float64\n",
              "V21       float64\n",
              "V22       float64\n",
              "V23       float64\n",
              "V24       float64\n",
              "V25       float64\n",
              "V26       float64\n",
              "V27       float64\n",
              "V28       float64\n",
              "Amount    float64\n",
              "Class       int64\n",
              "dtype: object"
            ]
          },
          "metadata": {},
          "execution_count": 5
        }
      ]
    },
    {
      "cell_type": "code",
      "metadata": {
        "colab": {
          "base_uri": "https://localhost:8080/",
          "height": 320
        },
        "id": "zw7qLxoVVN83",
        "outputId": "75939907-a721-4fbb-e9f4-add5a59ee0af"
      },
      "source": [
        "#Checking for mean, standard deviation and maximum in each column\n",
        "df.describe()"
      ],
      "execution_count": 6,
      "outputs": [
        {
          "output_type": "execute_result",
          "data": {
            "text/html": [
              "<div>\n",
              "<style scoped>\n",
              "    .dataframe tbody tr th:only-of-type {\n",
              "        vertical-align: middle;\n",
              "    }\n",
              "\n",
              "    .dataframe tbody tr th {\n",
              "        vertical-align: top;\n",
              "    }\n",
              "\n",
              "    .dataframe thead th {\n",
              "        text-align: right;\n",
              "    }\n",
              "</style>\n",
              "<table border=\"1\" class=\"dataframe\">\n",
              "  <thead>\n",
              "    <tr style=\"text-align: right;\">\n",
              "      <th></th>\n",
              "      <th>Time</th>\n",
              "      <th>V1</th>\n",
              "      <th>V2</th>\n",
              "      <th>V3</th>\n",
              "      <th>V4</th>\n",
              "      <th>V5</th>\n",
              "      <th>V6</th>\n",
              "      <th>V7</th>\n",
              "      <th>V8</th>\n",
              "      <th>V9</th>\n",
              "      <th>V10</th>\n",
              "      <th>V11</th>\n",
              "      <th>V12</th>\n",
              "      <th>V13</th>\n",
              "      <th>V14</th>\n",
              "      <th>V15</th>\n",
              "      <th>V16</th>\n",
              "      <th>V17</th>\n",
              "      <th>V18</th>\n",
              "      <th>V19</th>\n",
              "      <th>V20</th>\n",
              "      <th>V21</th>\n",
              "      <th>V22</th>\n",
              "      <th>V23</th>\n",
              "      <th>V24</th>\n",
              "      <th>V25</th>\n",
              "      <th>V26</th>\n",
              "      <th>V27</th>\n",
              "      <th>V28</th>\n",
              "      <th>Amount</th>\n",
              "      <th>Class</th>\n",
              "    </tr>\n",
              "  </thead>\n",
              "  <tbody>\n",
              "    <tr>\n",
              "      <th>count</th>\n",
              "      <td>284807.000000</td>\n",
              "      <td>2.848070e+05</td>\n",
              "      <td>2.848070e+05</td>\n",
              "      <td>2.848070e+05</td>\n",
              "      <td>2.848070e+05</td>\n",
              "      <td>2.848070e+05</td>\n",
              "      <td>2.848070e+05</td>\n",
              "      <td>2.848070e+05</td>\n",
              "      <td>2.848070e+05</td>\n",
              "      <td>2.848070e+05</td>\n",
              "      <td>2.848070e+05</td>\n",
              "      <td>2.848070e+05</td>\n",
              "      <td>2.848070e+05</td>\n",
              "      <td>2.848070e+05</td>\n",
              "      <td>2.848070e+05</td>\n",
              "      <td>2.848070e+05</td>\n",
              "      <td>2.848070e+05</td>\n",
              "      <td>2.848070e+05</td>\n",
              "      <td>2.848070e+05</td>\n",
              "      <td>2.848070e+05</td>\n",
              "      <td>2.848070e+05</td>\n",
              "      <td>2.848070e+05</td>\n",
              "      <td>2.848070e+05</td>\n",
              "      <td>2.848070e+05</td>\n",
              "      <td>2.848070e+05</td>\n",
              "      <td>2.848070e+05</td>\n",
              "      <td>2.848070e+05</td>\n",
              "      <td>2.848070e+05</td>\n",
              "      <td>2.848070e+05</td>\n",
              "      <td>284807.000000</td>\n",
              "      <td>284807.000000</td>\n",
              "    </tr>\n",
              "    <tr>\n",
              "      <th>mean</th>\n",
              "      <td>94813.859575</td>\n",
              "      <td>3.919560e-15</td>\n",
              "      <td>5.688174e-16</td>\n",
              "      <td>-8.769071e-15</td>\n",
              "      <td>2.782312e-15</td>\n",
              "      <td>-1.552563e-15</td>\n",
              "      <td>2.010663e-15</td>\n",
              "      <td>-1.694249e-15</td>\n",
              "      <td>-1.927028e-16</td>\n",
              "      <td>-3.137024e-15</td>\n",
              "      <td>1.768627e-15</td>\n",
              "      <td>9.170318e-16</td>\n",
              "      <td>-1.810658e-15</td>\n",
              "      <td>1.693438e-15</td>\n",
              "      <td>1.479045e-15</td>\n",
              "      <td>3.482336e-15</td>\n",
              "      <td>1.392007e-15</td>\n",
              "      <td>-7.528491e-16</td>\n",
              "      <td>4.328772e-16</td>\n",
              "      <td>9.049732e-16</td>\n",
              "      <td>5.085503e-16</td>\n",
              "      <td>1.537294e-16</td>\n",
              "      <td>7.959909e-16</td>\n",
              "      <td>5.367590e-16</td>\n",
              "      <td>4.458112e-15</td>\n",
              "      <td>1.453003e-15</td>\n",
              "      <td>1.699104e-15</td>\n",
              "      <td>-3.660161e-16</td>\n",
              "      <td>-1.206049e-16</td>\n",
              "      <td>88.349619</td>\n",
              "      <td>0.001727</td>\n",
              "    </tr>\n",
              "    <tr>\n",
              "      <th>std</th>\n",
              "      <td>47488.145955</td>\n",
              "      <td>1.958696e+00</td>\n",
              "      <td>1.651309e+00</td>\n",
              "      <td>1.516255e+00</td>\n",
              "      <td>1.415869e+00</td>\n",
              "      <td>1.380247e+00</td>\n",
              "      <td>1.332271e+00</td>\n",
              "      <td>1.237094e+00</td>\n",
              "      <td>1.194353e+00</td>\n",
              "      <td>1.098632e+00</td>\n",
              "      <td>1.088850e+00</td>\n",
              "      <td>1.020713e+00</td>\n",
              "      <td>9.992014e-01</td>\n",
              "      <td>9.952742e-01</td>\n",
              "      <td>9.585956e-01</td>\n",
              "      <td>9.153160e-01</td>\n",
              "      <td>8.762529e-01</td>\n",
              "      <td>8.493371e-01</td>\n",
              "      <td>8.381762e-01</td>\n",
              "      <td>8.140405e-01</td>\n",
              "      <td>7.709250e-01</td>\n",
              "      <td>7.345240e-01</td>\n",
              "      <td>7.257016e-01</td>\n",
              "      <td>6.244603e-01</td>\n",
              "      <td>6.056471e-01</td>\n",
              "      <td>5.212781e-01</td>\n",
              "      <td>4.822270e-01</td>\n",
              "      <td>4.036325e-01</td>\n",
              "      <td>3.300833e-01</td>\n",
              "      <td>250.120109</td>\n",
              "      <td>0.041527</td>\n",
              "    </tr>\n",
              "    <tr>\n",
              "      <th>min</th>\n",
              "      <td>0.000000</td>\n",
              "      <td>-5.640751e+01</td>\n",
              "      <td>-7.271573e+01</td>\n",
              "      <td>-4.832559e+01</td>\n",
              "      <td>-5.683171e+00</td>\n",
              "      <td>-1.137433e+02</td>\n",
              "      <td>-2.616051e+01</td>\n",
              "      <td>-4.355724e+01</td>\n",
              "      <td>-7.321672e+01</td>\n",
              "      <td>-1.343407e+01</td>\n",
              "      <td>-2.458826e+01</td>\n",
              "      <td>-4.797473e+00</td>\n",
              "      <td>-1.868371e+01</td>\n",
              "      <td>-5.791881e+00</td>\n",
              "      <td>-1.921433e+01</td>\n",
              "      <td>-4.498945e+00</td>\n",
              "      <td>-1.412985e+01</td>\n",
              "      <td>-2.516280e+01</td>\n",
              "      <td>-9.498746e+00</td>\n",
              "      <td>-7.213527e+00</td>\n",
              "      <td>-5.449772e+01</td>\n",
              "      <td>-3.483038e+01</td>\n",
              "      <td>-1.093314e+01</td>\n",
              "      <td>-4.480774e+01</td>\n",
              "      <td>-2.836627e+00</td>\n",
              "      <td>-1.029540e+01</td>\n",
              "      <td>-2.604551e+00</td>\n",
              "      <td>-2.256568e+01</td>\n",
              "      <td>-1.543008e+01</td>\n",
              "      <td>0.000000</td>\n",
              "      <td>0.000000</td>\n",
              "    </tr>\n",
              "    <tr>\n",
              "      <th>25%</th>\n",
              "      <td>54201.500000</td>\n",
              "      <td>-9.203734e-01</td>\n",
              "      <td>-5.985499e-01</td>\n",
              "      <td>-8.903648e-01</td>\n",
              "      <td>-8.486401e-01</td>\n",
              "      <td>-6.915971e-01</td>\n",
              "      <td>-7.682956e-01</td>\n",
              "      <td>-5.540759e-01</td>\n",
              "      <td>-2.086297e-01</td>\n",
              "      <td>-6.430976e-01</td>\n",
              "      <td>-5.354257e-01</td>\n",
              "      <td>-7.624942e-01</td>\n",
              "      <td>-4.055715e-01</td>\n",
              "      <td>-6.485393e-01</td>\n",
              "      <td>-4.255740e-01</td>\n",
              "      <td>-5.828843e-01</td>\n",
              "      <td>-4.680368e-01</td>\n",
              "      <td>-4.837483e-01</td>\n",
              "      <td>-4.988498e-01</td>\n",
              "      <td>-4.562989e-01</td>\n",
              "      <td>-2.117214e-01</td>\n",
              "      <td>-2.283949e-01</td>\n",
              "      <td>-5.423504e-01</td>\n",
              "      <td>-1.618463e-01</td>\n",
              "      <td>-3.545861e-01</td>\n",
              "      <td>-3.171451e-01</td>\n",
              "      <td>-3.269839e-01</td>\n",
              "      <td>-7.083953e-02</td>\n",
              "      <td>-5.295979e-02</td>\n",
              "      <td>5.600000</td>\n",
              "      <td>0.000000</td>\n",
              "    </tr>\n",
              "    <tr>\n",
              "      <th>50%</th>\n",
              "      <td>84692.000000</td>\n",
              "      <td>1.810880e-02</td>\n",
              "      <td>6.548556e-02</td>\n",
              "      <td>1.798463e-01</td>\n",
              "      <td>-1.984653e-02</td>\n",
              "      <td>-5.433583e-02</td>\n",
              "      <td>-2.741871e-01</td>\n",
              "      <td>4.010308e-02</td>\n",
              "      <td>2.235804e-02</td>\n",
              "      <td>-5.142873e-02</td>\n",
              "      <td>-9.291738e-02</td>\n",
              "      <td>-3.275735e-02</td>\n",
              "      <td>1.400326e-01</td>\n",
              "      <td>-1.356806e-02</td>\n",
              "      <td>5.060132e-02</td>\n",
              "      <td>4.807155e-02</td>\n",
              "      <td>6.641332e-02</td>\n",
              "      <td>-6.567575e-02</td>\n",
              "      <td>-3.636312e-03</td>\n",
              "      <td>3.734823e-03</td>\n",
              "      <td>-6.248109e-02</td>\n",
              "      <td>-2.945017e-02</td>\n",
              "      <td>6.781943e-03</td>\n",
              "      <td>-1.119293e-02</td>\n",
              "      <td>4.097606e-02</td>\n",
              "      <td>1.659350e-02</td>\n",
              "      <td>-5.213911e-02</td>\n",
              "      <td>1.342146e-03</td>\n",
              "      <td>1.124383e-02</td>\n",
              "      <td>22.000000</td>\n",
              "      <td>0.000000</td>\n",
              "    </tr>\n",
              "    <tr>\n",
              "      <th>75%</th>\n",
              "      <td>139320.500000</td>\n",
              "      <td>1.315642e+00</td>\n",
              "      <td>8.037239e-01</td>\n",
              "      <td>1.027196e+00</td>\n",
              "      <td>7.433413e-01</td>\n",
              "      <td>6.119264e-01</td>\n",
              "      <td>3.985649e-01</td>\n",
              "      <td>5.704361e-01</td>\n",
              "      <td>3.273459e-01</td>\n",
              "      <td>5.971390e-01</td>\n",
              "      <td>4.539234e-01</td>\n",
              "      <td>7.395934e-01</td>\n",
              "      <td>6.182380e-01</td>\n",
              "      <td>6.625050e-01</td>\n",
              "      <td>4.931498e-01</td>\n",
              "      <td>6.488208e-01</td>\n",
              "      <td>5.232963e-01</td>\n",
              "      <td>3.996750e-01</td>\n",
              "      <td>5.008067e-01</td>\n",
              "      <td>4.589494e-01</td>\n",
              "      <td>1.330408e-01</td>\n",
              "      <td>1.863772e-01</td>\n",
              "      <td>5.285536e-01</td>\n",
              "      <td>1.476421e-01</td>\n",
              "      <td>4.395266e-01</td>\n",
              "      <td>3.507156e-01</td>\n",
              "      <td>2.409522e-01</td>\n",
              "      <td>9.104512e-02</td>\n",
              "      <td>7.827995e-02</td>\n",
              "      <td>77.165000</td>\n",
              "      <td>0.000000</td>\n",
              "    </tr>\n",
              "    <tr>\n",
              "      <th>max</th>\n",
              "      <td>172792.000000</td>\n",
              "      <td>2.454930e+00</td>\n",
              "      <td>2.205773e+01</td>\n",
              "      <td>9.382558e+00</td>\n",
              "      <td>1.687534e+01</td>\n",
              "      <td>3.480167e+01</td>\n",
              "      <td>7.330163e+01</td>\n",
              "      <td>1.205895e+02</td>\n",
              "      <td>2.000721e+01</td>\n",
              "      <td>1.559499e+01</td>\n",
              "      <td>2.374514e+01</td>\n",
              "      <td>1.201891e+01</td>\n",
              "      <td>7.848392e+00</td>\n",
              "      <td>7.126883e+00</td>\n",
              "      <td>1.052677e+01</td>\n",
              "      <td>8.877742e+00</td>\n",
              "      <td>1.731511e+01</td>\n",
              "      <td>9.253526e+00</td>\n",
              "      <td>5.041069e+00</td>\n",
              "      <td>5.591971e+00</td>\n",
              "      <td>3.942090e+01</td>\n",
              "      <td>2.720284e+01</td>\n",
              "      <td>1.050309e+01</td>\n",
              "      <td>2.252841e+01</td>\n",
              "      <td>4.584549e+00</td>\n",
              "      <td>7.519589e+00</td>\n",
              "      <td>3.517346e+00</td>\n",
              "      <td>3.161220e+01</td>\n",
              "      <td>3.384781e+01</td>\n",
              "      <td>25691.160000</td>\n",
              "      <td>1.000000</td>\n",
              "    </tr>\n",
              "  </tbody>\n",
              "</table>\n",
              "</div>"
            ],
            "text/plain": [
              "                Time            V1  ...         Amount          Class\n",
              "count  284807.000000  2.848070e+05  ...  284807.000000  284807.000000\n",
              "mean    94813.859575  3.919560e-15  ...      88.349619       0.001727\n",
              "std     47488.145955  1.958696e+00  ...     250.120109       0.041527\n",
              "min         0.000000 -5.640751e+01  ...       0.000000       0.000000\n",
              "25%     54201.500000 -9.203734e-01  ...       5.600000       0.000000\n",
              "50%     84692.000000  1.810880e-02  ...      22.000000       0.000000\n",
              "75%    139320.500000  1.315642e+00  ...      77.165000       0.000000\n",
              "max    172792.000000  2.454930e+00  ...   25691.160000       1.000000\n",
              "\n",
              "[8 rows x 31 columns]"
            ]
          },
          "metadata": {},
          "execution_count": 6
        }
      ]
    },
    {
      "cell_type": "code",
      "metadata": {
        "colab": {
          "base_uri": "https://localhost:8080/"
        },
        "id": "M763U5VSVT57",
        "outputId": "2798e6d0-6953-47d1-9115-fe2129fa1f83"
      },
      "source": [
        "#Checking for any empty cell:\n",
        "df.isnull().sum()"
      ],
      "execution_count": 7,
      "outputs": [
        {
          "output_type": "execute_result",
          "data": {
            "text/plain": [
              "Time      0\n",
              "V1        0\n",
              "V2        0\n",
              "V3        0\n",
              "V4        0\n",
              "V5        0\n",
              "V6        0\n",
              "V7        0\n",
              "V8        0\n",
              "V9        0\n",
              "V10       0\n",
              "V11       0\n",
              "V12       0\n",
              "V13       0\n",
              "V14       0\n",
              "V15       0\n",
              "V16       0\n",
              "V17       0\n",
              "V18       0\n",
              "V19       0\n",
              "V20       0\n",
              "V21       0\n",
              "V22       0\n",
              "V23       0\n",
              "V24       0\n",
              "V25       0\n",
              "V26       0\n",
              "V27       0\n",
              "V28       0\n",
              "Amount    0\n",
              "Class     0\n",
              "dtype: int64"
            ]
          },
          "metadata": {},
          "execution_count": 7
        }
      ]
    },
    {
      "cell_type": "code",
      "metadata": {
        "id": "IROk0az2Vfwx"
      },
      "source": [
        "count_df=pd.DataFrame({\"Type\":[\"fraud cases\",\"fair cases\"],\"Count\":[492,284315]})"
      ],
      "execution_count": 8,
      "outputs": []
    },
    {
      "cell_type": "code",
      "metadata": {
        "colab": {
          "base_uri": "https://localhost:8080/",
          "height": 112
        },
        "id": "MUthRHd8WCCB",
        "outputId": "bed77d2d-90ba-425d-ac9c-00b49049ca08"
      },
      "source": [
        "count_df"
      ],
      "execution_count": 9,
      "outputs": [
        {
          "output_type": "execute_result",
          "data": {
            "text/html": [
              "<div>\n",
              "<style scoped>\n",
              "    .dataframe tbody tr th:only-of-type {\n",
              "        vertical-align: middle;\n",
              "    }\n",
              "\n",
              "    .dataframe tbody tr th {\n",
              "        vertical-align: top;\n",
              "    }\n",
              "\n",
              "    .dataframe thead th {\n",
              "        text-align: right;\n",
              "    }\n",
              "</style>\n",
              "<table border=\"1\" class=\"dataframe\">\n",
              "  <thead>\n",
              "    <tr style=\"text-align: right;\">\n",
              "      <th></th>\n",
              "      <th>Type</th>\n",
              "      <th>Count</th>\n",
              "    </tr>\n",
              "  </thead>\n",
              "  <tbody>\n",
              "    <tr>\n",
              "      <th>0</th>\n",
              "      <td>fraud cases</td>\n",
              "      <td>492</td>\n",
              "    </tr>\n",
              "    <tr>\n",
              "      <th>1</th>\n",
              "      <td>fair cases</td>\n",
              "      <td>284315</td>\n",
              "    </tr>\n",
              "  </tbody>\n",
              "</table>\n",
              "</div>"
            ],
            "text/plain": [
              "          Type   Count\n",
              "0  fraud cases     492\n",
              "1   fair cases  284315"
            ]
          },
          "metadata": {},
          "execution_count": 9
        }
      ]
    },
    {
      "cell_type": "markdown",
      "metadata": {
        "id": "9fzufTxSf_p4"
      },
      "source": [
        "# **Graphical Analysis of the Data**"
      ]
    },
    {
      "cell_type": "code",
      "metadata": {
        "colab": {
          "base_uri": "https://localhost:8080/",
          "height": 297
        },
        "id": "nUxts00tWEWn",
        "outputId": "b37827ef-8373-415a-f9af-eb47a5a26d48"
      },
      "source": [
        "figsize=15,15\n",
        "sns.barplot(x=\"Type\",y=\"Count\",data=count_df, color='crimson')"
      ],
      "execution_count": 10,
      "outputs": [
        {
          "output_type": "execute_result",
          "data": {
            "text/plain": [
              "<matplotlib.axes._subplots.AxesSubplot at 0x7f19ae7414d0>"
            ]
          },
          "metadata": {},
          "execution_count": 10
        },
        {
          "output_type": "display_data",
          "data": {
            "image/png": "[encoded data removed]",
            "text/plain": [
              "<Figure size 432x288 with 1 Axes>"
            ]
          },
          "metadata": {
            "needs_background": "light"
          }
        }
      ]
    },
    {
      "cell_type": "code",
      "metadata": {
        "colab": {
          "base_uri": "https://localhost:8080/",
          "height": 513
        },
        "id": "40aohiZpbZbP",
        "outputId": "0c139e02-9f72-449e-fbbe-9f8d0bd79de8"
      },
      "source": [
        "f, (ax1, ax2) = plt.subplots(2, 1, sharex=True, figsize=(15,8))\n",
        "\n",
        "bins = 50\n",
        "\n",
        "ax1.hist(df.Time[df.Class == 1], bins = bins, color = 'deeppink')\n",
        "ax1.set_title('Fraud')\n",
        "\n",
        "ax2.hist(df.Time[df.Class == 0], bins = bins, color = 'cyan')\n",
        "ax2.set_title('Normal')\n",
        "\n",
        "plt.xlabel('Time (in Seconds)')\n",
        "plt.ylabel('Number of Transactions')\n",
        "plt.show()"
      ],
      "execution_count": 11,
      "outputs": [
        {
          "output_type": "display_data",
          "data": {
            "image/png": "[encoded data removed]",
            "text/plain": [
              "<Figure size 1080x576 with 2 Axes>"
            ]
          },
          "metadata": {
            "needs_background": "light"
          }
        }
      ]
    },
    {
      "cell_type": "code",
      "metadata": {
        "colab": {
          "base_uri": "https://localhost:8080/",
          "height": 513
        },
        "id": "G4cr1t_mcPuK",
        "outputId": "4eeb0d2a-f5b4-4395-ee2b-5f93e2dfa838"
      },
      "source": [
        "f, (ax1, ax2) = plt.subplots(2, 1, sharex=True, figsize=(15,8))\n",
        "\n",
        "ax1.scatter(df.Time[df.Class == 1], df.Amount[df.Class == 1], color = 'deeppink')\n",
        "ax1.set_title('Fraud')\n",
        "\n",
        "ax2.scatter(df.Time[df.Class == 0], df.Amount[df.Class == 0],  color = 'cyan')\n",
        "ax2.set_title('Normal')\n",
        "\n",
        "plt.xlabel('Time (in Seconds)')\n",
        "plt.ylabel('Amount')\n",
        "plt.show()"
      ],
      "execution_count": 12,
      "outputs": [
        {
          "output_type": "display_data",
          "data": {
            "image/png": "[encoded data removed]",
            "text/plain": [
              "<Figure size 1080x576 with 2 Axes>"
            ]
          },
          "metadata": {
            "needs_background": "light"
          }
        }
      ]
    },
    {
      "cell_type": "code",
      "metadata": {
        "colab": {
          "base_uri": "https://localhost:8080/",
          "height": 470
        },
        "id": "at5YfwnTdK3W",
        "outputId": "bd71f7e2-f898-4ac6-da15-08f53d2b5422"
      },
      "source": [
        "#correlation matrix \n",
        "f, (ax1, ax2) = plt.subplots(1,2,figsize =( 15, 8))\n",
        "\n",
        "sns.heatmap(df.query('Class==1').drop(['Class','Time'],1).corr(), vmax = .8, square=True, ax = ax1, cmap = 'YlOrRd')\n",
        "ax1.set_title('Fraud')\n",
        "\n",
        "sns.heatmap(df.query('Class==0').drop(['Class','Time'],1).corr(), vmax = .8, square=True, ax = ax2, cmap = 'YlOrRd');\n",
        "ax2.set_title('Normal')\n",
        "\n",
        "plt.show()"
      ],
      "execution_count": 13,
      "outputs": [
        {
          "output_type": "display_data",
          "data": {
            "image/png": "[encoded data removed]",
            "text/plain": [
              "<Figure size 1080x576 with 4 Axes>"
            ]
          },
          "metadata": {
            "needs_background": "light"
          }
        }
      ]
    },
    {
      "cell_type": "code",
      "metadata": {
        "colab": {
          "base_uri": "https://localhost:8080/",
          "height": 297
        },
        "id": "c5LjTLAdguJf",
        "outputId": "2439ace3-ac75-4f1e-937c-703ed6f58161"
      },
      "source": [
        "sns.scatterplot(x=\"Class\",y=\"Amount\",hue=\"Class\",data=df)"
      ],
      "execution_count": 14,
      "outputs": [
        {
          "output_type": "execute_result",
          "data": {
            "text/plain": [
              "<matplotlib.axes._subplots.AxesSubplot at 0x7f19accb8f50>"
            ]
          },
          "metadata": {},
          "execution_count": 14
        },
        {
          "output_type": "display_data",
          "data": {
            "image/png": "[encoded data removed]",
            "text/plain": [
              "<Figure size 432x288 with 1 Axes>"
            ]
          },
          "metadata": {
            "needs_background": "light"
          }
        }
      ]
    },
    {
      "cell_type": "code",
      "metadata": {
        "colab": {
          "base_uri": "https://localhost:8080/"
        },
        "id": "-mp174ZohOMo",
        "outputId": "55bc6d33-cf26-48e1-951f-df3222076abf"
      },
      "source": [
        "print('Non-fraud transactions: {}%'.format(round(df.Class.value_counts()[0]/len(df)*100.0,2)))\n",
        "print('Fraud transactions: {}%'.format(round(df.Class.value_counts()[1]/len(df)*100.0,2)))"
      ],
      "execution_count": 15,
      "outputs": [
        {
          "output_type": "stream",
          "name": "stdout",
          "text": [
            "Non-fraud transactions: 99.83%\n",
            "Fraud transactions: 0.17%\n"
          ]
        }
      ]
    },
    {
      "cell_type": "markdown",
      "metadata": {
        "id": "I6A6GR_UZebC"
      },
      "source": [
        "The above plot shows that the data we are dealing with is severly imbalanced. \n",
        "\n",
        "To address this problem we will try to use undersampling and oversampling techniques."
      ]
    },
    {
      "cell_type": "code",
      "metadata": {
        "colab": {
          "base_uri": "https://localhost:8080/",
          "height": 422
        },
        "id": "kibdyTxsWORR",
        "outputId": "540cce73-3a1d-44b7-c8e7-95603e7818c2"
      },
      "source": [
        "f, (ax1, ax2) = plt.subplots(1, 2, figsize=(15, 6))\n",
        "ax1 = sns.distplot(df['Time'], ax=ax1, color='y')\n",
        "ax2 = sns.distplot(df['Amount'], ax=ax2, color='r')\n",
        "ax1.set_title('Distribution of Time', fontsize=13)\n",
        "ax2.set_title('Distribution of Amount', fontsize=13)"
      ],
      "execution_count": 16,
      "outputs": [
        {
          "output_type": "execute_result",
          "data": {
            "text/plain": [
              "Text(0.5, 1.0, 'Distribution of Amount')"
            ]
          },
          "metadata": {},
          "execution_count": 16
        },
        {
          "output_type": "display_data",
          "data": {
            "image/png": "[encoded data removed]",
            "text/plain": [
              "<Figure size 1080x432 with 2 Axes>"
            ]
          },
          "metadata": {
            "needs_background": "light"
          }
        }
      ]
    },
    {
      "cell_type": "code",
      "metadata": {
        "colab": {
          "base_uri": "https://localhost:8080/",
          "height": 463
        },
        "id": "SYwUtIiTh2Dn",
        "outputId": "5546494b-0edf-4bd9-e9b9-1e5930fcac32"
      },
      "source": [
        "imp_df=df.loc[:,['Amount','Class','Time']]\n",
        "fraud_df=imp_df.loc[df.Class==1]\n",
        "\n",
        "fig, ax = plt.subplots(figsize = ( 20, 7 ))\n",
        "sns.histplot(ax=ax,x=\"Time\",y=\"Amount\",hue=\"Class\",data=fraud_df,palette=\"tab10\")\n",
        "ax.set_title(\"the Timeline of Fraud cases\",size=20)\n",
        "plt.ylabel((\"Transactions in Dollars\"))\n",
        "plt.xlabel(\"Time in Seconds\")\n",
        "bins=50\n",
        "plt.show()"
      ],
      "execution_count": 17,
      "outputs": [
        {
          "output_type": "display_data",
          "data": {
            "image/png": "[encoded data removed]",
            "text/plain": [
              "<Figure size 1440x504 with 1 Axes>"
            ]
          },
          "metadata": {
            "needs_background": "light"
          }
        }
      ]
    },
    {
      "cell_type": "markdown",
      "metadata": {
        "id": "KVgjlUpo2u15"
      },
      "source": [
        "To normalize the distribution we are going to use a method called Feature Scaling. In our case it is better to use the Robust Scaler algorithm because it's robust to outliers"
      ]
    },
    {
      "cell_type": "code",
      "metadata": {
        "id": "4Mk8PZc_tP4m"
      },
      "source": [
        "from sklearn.preprocessing import RobustScaler\n",
        "rs = RobustScaler()\n",
        "df['scaled_amount'] = rs.fit_transform(df['Amount'].values.reshape(-1,1))\n",
        "df['scaled_time'] = rs.fit_transform(df['Time'].values.reshape(-1,1))\n",
        "df.drop(['Time', 'Amount'], axis=1, inplace=True)"
      ],
      "execution_count": 18,
      "outputs": []
    },
    {
      "cell_type": "code",
      "metadata": {
        "colab": {
          "base_uri": "https://localhost:8080/",
          "height": 226
        },
        "id": "sC09KVao2yKa",
        "outputId": "31de7bb3-6925-4429-a592-37822fd9db20"
      },
      "source": [
        "scaled_amount = df['scaled_amount']\n",
        "scaled_time = df['scaled_time']\n",
        "df.drop(['scaled_amount', 'scaled_time'], axis=1, inplace=True)\n",
        "df.insert(0, 'scaled_amount', scaled_amount)\n",
        "df.insert(0, 'scaled_time', scaled_time)\n",
        "df.head()"
      ],
      "execution_count": 19,
      "outputs": [
        {
          "output_type": "execute_result",
          "data": {
            "text/html": [
              "<div>\n",
              "<style scoped>\n",
              "    .dataframe tbody tr th:only-of-type {\n",
              "        vertical-align: middle;\n",
              "    }\n",
              "\n",
              "    .dataframe tbody tr th {\n",
              "        vertical-align: top;\n",
              "    }\n",
              "\n",
              "    .dataframe thead th {\n",
              "        text-align: right;\n",
              "    }\n",
              "</style>\n",
              "<table border=\"1\" class=\"dataframe\">\n",
              "  <thead>\n",
              "    <tr style=\"text-align: right;\">\n",
              "      <th></th>\n",
              "      <th>scaled_time</th>\n",
              "      <th>scaled_amount</th>\n",
              "      <th>V1</th>\n",
              "      <th>V2</th>\n",
              "      <th>V3</th>\n",
              "      <th>V4</th>\n",
              "      <th>V5</th>\n",
              "      <th>V6</th>\n",
              "      <th>V7</th>\n",
              "      <th>V8</th>\n",
              "      <th>V9</th>\n",
              "      <th>V10</th>\n",
              "      <th>V11</th>\n",
              "      <th>V12</th>\n",
              "      <th>V13</th>\n",
              "      <th>V14</th>\n",
              "      <th>V15</th>\n",
              "      <th>V16</th>\n",
              "      <th>V17</th>\n",
              "      <th>V18</th>\n",
              "      <th>V19</th>\n",
              "      <th>V20</th>\n",
              "      <th>V21</th>\n",
              "      <th>V22</th>\n",
              "      <th>V23</th>\n",
              "      <th>V24</th>\n",
              "      <th>V25</th>\n",
              "      <th>V26</th>\n",
              "      <th>V27</th>\n",
              "      <th>V28</th>\n",
              "      <th>Class</th>\n",
              "    </tr>\n",
              "  </thead>\n",
              "  <tbody>\n",
              "    <tr>\n",
              "      <th>0</th>\n",
              "      <td>-0.994983</td>\n",
              "      <td>1.783274</td>\n",
              "      <td>-1.359807</td>\n",
              "      <td>-0.072781</td>\n",
              "      <td>2.536347</td>\n",
              "      <td>1.378155</td>\n",
              "      <td>-0.338321</td>\n",
              "      <td>0.462388</td>\n",
              "      <td>0.239599</td>\n",
              "      <td>0.098698</td>\n",
              "      <td>0.363787</td>\n",
              "      <td>0.090794</td>\n",
              "      <td>-0.551600</td>\n",
              "      <td>-0.617801</td>\n",
              "      <td>-0.991390</td>\n",
              "      <td>-0.311169</td>\n",
              "      <td>1.468177</td>\n",
              "      <td>-0.470401</td>\n",
              "      <td>0.207971</td>\n",
              "      <td>0.025791</td>\n",
              "      <td>0.403993</td>\n",
              "      <td>0.251412</td>\n",
              "      <td>-0.018307</td>\n",
              "      <td>0.277838</td>\n",
              "      <td>-0.110474</td>\n",
              "      <td>0.066928</td>\n",
              "      <td>0.128539</td>\n",
              "      <td>-0.189115</td>\n",
              "      <td>0.133558</td>\n",
              "      <td>-0.021053</td>\n",
              "      <td>0</td>\n",
              "    </tr>\n",
              "    <tr>\n",
              "      <th>1</th>\n",
              "      <td>-0.994983</td>\n",
              "      <td>-0.269825</td>\n",
              "      <td>1.191857</td>\n",
              "      <td>0.266151</td>\n",
              "      <td>0.166480</td>\n",
              "      <td>0.448154</td>\n",
              "      <td>0.060018</td>\n",
              "      <td>-0.082361</td>\n",
              "      <td>-0.078803</td>\n",
              "      <td>0.085102</td>\n",
              "      <td>-0.255425</td>\n",
              "      <td>-0.166974</td>\n",
              "      <td>1.612727</td>\n",
              "      <td>1.065235</td>\n",
              "      <td>0.489095</td>\n",
              "      <td>-0.143772</td>\n",
              "      <td>0.635558</td>\n",
              "      <td>0.463917</td>\n",
              "      <td>-0.114805</td>\n",
              "      <td>-0.183361</td>\n",
              "      <td>-0.145783</td>\n",
              "      <td>-0.069083</td>\n",
              "      <td>-0.225775</td>\n",
              "      <td>-0.638672</td>\n",
              "      <td>0.101288</td>\n",
              "      <td>-0.339846</td>\n",
              "      <td>0.167170</td>\n",
              "      <td>0.125895</td>\n",
              "      <td>-0.008983</td>\n",
              "      <td>0.014724</td>\n",
              "      <td>0</td>\n",
              "    </tr>\n",
              "    <tr>\n",
              "      <th>2</th>\n",
              "      <td>-0.994972</td>\n",
              "      <td>4.983721</td>\n",
              "      <td>-1.358354</td>\n",
              "      <td>-1.340163</td>\n",
              "      <td>1.773209</td>\n",
              "      <td>0.379780</td>\n",
              "      <td>-0.503198</td>\n",
              "      <td>1.800499</td>\n",
              "      <td>0.791461</td>\n",
              "      <td>0.247676</td>\n",
              "      <td>-1.514654</td>\n",
              "      <td>0.207643</td>\n",
              "      <td>0.624501</td>\n",
              "      <td>0.066084</td>\n",
              "      <td>0.717293</td>\n",
              "      <td>-0.165946</td>\n",
              "      <td>2.345865</td>\n",
              "      <td>-2.890083</td>\n",
              "      <td>1.109969</td>\n",
              "      <td>-0.121359</td>\n",
              "      <td>-2.261857</td>\n",
              "      <td>0.524980</td>\n",
              "      <td>0.247998</td>\n",
              "      <td>0.771679</td>\n",
              "      <td>0.909412</td>\n",
              "      <td>-0.689281</td>\n",
              "      <td>-0.327642</td>\n",
              "      <td>-0.139097</td>\n",
              "      <td>-0.055353</td>\n",
              "      <td>-0.059752</td>\n",
              "      <td>0</td>\n",
              "    </tr>\n",
              "    <tr>\n",
              "      <th>3</th>\n",
              "      <td>-0.994972</td>\n",
              "      <td>1.418291</td>\n",
              "      <td>-0.966272</td>\n",
              "      <td>-0.185226</td>\n",
              "      <td>1.792993</td>\n",
              "      <td>-0.863291</td>\n",
              "      <td>-0.010309</td>\n",
              "      <td>1.247203</td>\n",
              "      <td>0.237609</td>\n",
              "      <td>0.377436</td>\n",
              "      <td>-1.387024</td>\n",
              "      <td>-0.054952</td>\n",
              "      <td>-0.226487</td>\n",
              "      <td>0.178228</td>\n",
              "      <td>0.507757</td>\n",
              "      <td>-0.287924</td>\n",
              "      <td>-0.631418</td>\n",
              "      <td>-1.059647</td>\n",
              "      <td>-0.684093</td>\n",
              "      <td>1.965775</td>\n",
              "      <td>-1.232622</td>\n",
              "      <td>-0.208038</td>\n",
              "      <td>-0.108300</td>\n",
              "      <td>0.005274</td>\n",
              "      <td>-0.190321</td>\n",
              "      <td>-1.175575</td>\n",
              "      <td>0.647376</td>\n",
              "      <td>-0.221929</td>\n",
              "      <td>0.062723</td>\n",
              "      <td>0.061458</td>\n",
              "      <td>0</td>\n",
              "    </tr>\n",
              "    <tr>\n",
              "      <th>4</th>\n",
              "      <td>-0.994960</td>\n",
              "      <td>0.670579</td>\n",
              "      <td>-1.158233</td>\n",
              "      <td>0.877737</td>\n",
              "      <td>1.548718</td>\n",
              "      <td>0.403034</td>\n",
              "      <td>-0.407193</td>\n",
              "      <td>0.095921</td>\n",
              "      <td>0.592941</td>\n",
              "      <td>-0.270533</td>\n",
              "      <td>0.817739</td>\n",
              "      <td>0.753074</td>\n",
              "      <td>-0.822843</td>\n",
              "      <td>0.538196</td>\n",
              "      <td>1.345852</td>\n",
              "      <td>-1.119670</td>\n",
              "      <td>0.175121</td>\n",
              "      <td>-0.451449</td>\n",
              "      <td>-0.237033</td>\n",
              "      <td>-0.038195</td>\n",
              "      <td>0.803487</td>\n",
              "      <td>0.408542</td>\n",
              "      <td>-0.009431</td>\n",
              "      <td>0.798278</td>\n",
              "      <td>-0.137458</td>\n",
              "      <td>0.141267</td>\n",
              "      <td>-0.206010</td>\n",
              "      <td>0.502292</td>\n",
              "      <td>0.219422</td>\n",
              "      <td>0.215153</td>\n",
              "      <td>0</td>\n",
              "    </tr>\n",
              "  </tbody>\n",
              "</table>\n",
              "</div>"
            ],
            "text/plain": [
              "   scaled_time  scaled_amount        V1  ...       V27       V28  Class\n",
              "0    -0.994983       1.783274 -1.359807  ...  0.133558 -0.021053      0\n",
              "1    -0.994983      -0.269825  1.191857  ... -0.008983  0.014724      0\n",
              "2    -0.994972       4.983721 -1.358354  ... -0.055353 -0.059752      0\n",
              "3    -0.994972       1.418291 -0.966272  ...  0.062723  0.061458      0\n",
              "4    -0.994960       0.670579 -1.158233  ...  0.219422  0.215153      0\n",
              "\n",
              "[5 rows x 31 columns]"
            ]
          },
          "metadata": {},
          "execution_count": 19
        }
      ]
    },
    {
      "cell_type": "code",
      "metadata": {
        "id": "yNtRXjT421fS"
      },
      "source": [
        "from sklearn.model_selection import train_test_split as holdout\n",
        "x = np.array(df.iloc[:, df.columns != 'Class'])\n",
        "y = np.array(df.iloc[:, df.columns == 'Class'])\n",
        "x_train, x_test, y_train, y_test = holdout(x, y, test_size=0.2, random_state=0)\n",
        "\n",
        "from sklearn.linear_model import LogisticRegression\n",
        "from sklearn.metrics import confusion_matrix, precision_recall_curve, classification_report, precision_score, recall_score, accuracy_score\n",
        "logreg = LogisticRegression()\n",
        "logreg.fit(x_train, y_train)\n",
        "y_pred = logreg.predict(x_test)"
      ],
      "execution_count": 20,
      "outputs": []
    },
    {
      "cell_type": "code",
      "metadata": {
        "id": "0J8-ROTq2-3S"
      },
      "source": [
        "from sklearn.linear_model import LogisticRegression\n",
        "from sklearn.metrics import confusion_matrix, precision_recall_curve, classification_report, precision_score, recall_score, accuracy_score\n",
        "logreg = LogisticRegression()\n",
        "logreg.fit(x_train, y_train)\n",
        "y_pred = logreg.predict(x_test)\n",
        "cnf_matrix = confusion_matrix(y_test, y_pred)"
      ],
      "execution_count": 21,
      "outputs": []
    },
    {
      "cell_type": "code",
      "metadata": {
        "colab": {
          "base_uri": "https://localhost:8080/",
          "height": 442
        },
        "id": "N7JfN7WI3Cqa",
        "outputId": "f09792e3-9069-4512-bd44-bdd66759d2aa"
      },
      "source": [
        "sns.heatmap(pd.DataFrame(cnf_matrix), annot=True, cmap=\"YlGnBu\", fmt='g')\n",
        "plt.ylabel('Actual Label')\n",
        "plt.xlabel('Predicted Label')\n",
        "\n",
        "labels = ['Non-fraud', 'Fraud']\n",
        "print(classification_report(y_test, y_pred, target_names=labels))"
      ],
      "execution_count": 22,
      "outputs": [
        {
          "output_type": "stream",
          "name": "stdout",
          "text": [
            "              precision    recall  f1-score   support\n",
            "\n",
            "   Non-fraud       1.00      1.00      1.00     56861\n",
            "       Fraud       0.88      0.63      0.74       101\n",
            "\n",
            "    accuracy                           1.00     56962\n",
            "   macro avg       0.94      0.82      0.87     56962\n",
            "weighted avg       1.00      1.00      1.00     56962\n",
            "\n"
          ]
        },
        {
          "output_type": "display_data",
          "data": {
            "image/png": "[encoded data removed]",
            "text/plain": [
              "<Figure size 432x288 with 2 Axes>"
            ]
          },
          "metadata": {
            "needs_background": "light"
          }
        }
      ]
    },
    {
      "cell_type": "markdown",
      "metadata": {
        "id": "3lShHNCL3kRr"
      },
      "source": [
        "As we can see this is not a good model, because it is biased towards majority class and the recall in minority class is not as high as disired"
      ]
    },
    {
      "cell_type": "code",
      "metadata": {
        "colab": {
          "base_uri": "https://localhost:8080/"
        },
        "id": "gk_du2AY3HSl",
        "outputId": "8844bfb1-27c5-4c37-bb46-1108b77f93a1"
      },
      "source": [
        "from imblearn.over_sampling import SMOTE\n",
        "\n",
        "print(\"Transaction Number x_train dataset: \", x_train.shape)\n",
        "print(\"Transaction Number y_train dataset: \", y_train.shape)\n",
        "print(\"Transaction Number x_test dataset: \", x_test.shape)\n",
        "print(\"Transaction Number y_test dataset: \", y_test.shape)\n",
        "\n",
        "print(\"Before OverSampling, counts of label '1': {}\".format(sum(y_train==1)))\n",
        "print(\"Before OverSampling, counts of label '0': {} \\n\".format(sum(y_train==0)))\n",
        "\n",
        "sm = SMOTE(random_state=2)\n",
        "x_train_s, y_train_s = sm.fit_sample(x_train, y_train.ravel())"
      ],
      "execution_count": 23,
      "outputs": [
        {
          "output_type": "stream",
          "name": "stdout",
          "text": [
            "Transaction Number x_train dataset:  (227845, 30)\n",
            "Transaction Number y_train dataset:  (227845, 1)\n",
            "Transaction Number x_test dataset:  (56962, 30)\n",
            "Transaction Number y_test dataset:  (56962, 1)\n",
            "Before OverSampling, counts of label '1': [391]\n",
            "Before OverSampling, counts of label '0': [227454] \n",
            "\n"
          ]
        }
      ]
    },
    {
      "cell_type": "code",
      "metadata": {
        "colab": {
          "base_uri": "https://localhost:8080/",
          "height": 373
        },
        "id": "b4JHwRB24A_n",
        "outputId": "2d06b0a1-96f8-430f-bdc7-3cc3e336e814"
      },
      "source": [
        "print('After OverSampling, the shape of train_x: {}'.format(x_train_s.shape))\n",
        "print('After OverSampling, the shape of train_y: {} \\n'.format(y_train_s.shape))\n",
        "\n",
        "print(\"After OverSampling, counts of label '1', %: {}\".format(sum(y_train_s==1)/len(y_train_s)*100.0,2))\n",
        "print(\"After OverSampling, counts of label '0', %: {}\".format(sum(y_train_s==0)/len(y_train_s)*100.0,2))\n",
        "\n",
        "sns.countplot(x=y_train_s, data=df, palette='CMRmap')"
      ],
      "execution_count": 24,
      "outputs": [
        {
          "output_type": "stream",
          "name": "stdout",
          "text": [
            "After OverSampling, the shape of train_x: (454908, 30)\n",
            "After OverSampling, the shape of train_y: (454908,) \n",
            "\n",
            "After OverSampling, counts of label '1', %: 50.0\n",
            "After OverSampling, counts of label '0', %: 50.0\n"
          ]
        },
        {
          "output_type": "execute_result",
          "data": {
            "text/plain": [
              "<matplotlib.axes._subplots.AxesSubplot at 0x7f19a4286950>"
            ]
          },
          "metadata": {},
          "execution_count": 24
        },
        {
          "output_type": "display_data",
          "data": {
            "image/png": "[encoded data removed]",
            "text/plain": [
              "<Figure size 432x288 with 1 Axes>"
            ]
          },
          "metadata": {
            "needs_background": "light"
          }
        }
      ]
    },
    {
      "cell_type": "markdown",
      "metadata": {
        "id": "s0MoWCNu4HWC"
      },
      "source": [
        "Now the dataset is balanced, so we can build a Logistic Regression model with SMOTE. One important thing to point out here is that we used SMOTE after cross validation in order to avoid data leakage problem and hence overfitting"
      ]
    },
    {
      "cell_type": "markdown",
      "metadata": {
        "id": "NJ3fntBd4Mpv"
      },
      "source": [
        "**Logistic Regression with SMOTE**"
      ]
    },
    {
      "cell_type": "code",
      "metadata": {
        "colab": {
          "base_uri": "https://localhost:8080/",
          "height": 442
        },
        "id": "PqO8Gy1d4Ddh",
        "outputId": "77554ede-c7f5-4134-aa54-0c5d0c1b74f1"
      },
      "source": [
        "logreg = LogisticRegression()\n",
        "logreg.fit(x_train_s, y_train_s)\n",
        "y_pred = logreg.predict(x_test)\n",
        "cnf_matrix = confusion_matrix(y_test, y_pred)\n",
        "\n",
        "sns.heatmap(pd.DataFrame(cnf_matrix), annot=True, cmap=\"YlGnBu\", fmt='g')\n",
        "plt.ylabel('Actual Label')\n",
        "plt.xlabel('Predicted Label')\n",
        "\n",
        "print(classification_report(y_test, y_pred))"
      ],
      "execution_count": 25,
      "outputs": [
        {
          "output_type": "stream",
          "name": "stdout",
          "text": [
            "              precision    recall  f1-score   support\n",
            "\n",
            "           0       1.00      0.98      0.99     56861\n",
            "           1       0.06      0.94      0.12       101\n",
            "\n",
            "    accuracy                           0.98     56962\n",
            "   macro avg       0.53      0.96      0.55     56962\n",
            "weighted avg       1.00      0.98      0.99     56962\n",
            "\n"
          ]
        },
        {
          "output_type": "display_data",
          "data": {
            "image/png": "[encoded data removed]",
            "text/plain": [
              "<Figure size 432x288 with 2 Axes>"
            ]
          },
          "metadata": {
            "needs_background": "light"
          }
        }
      ]
    },
    {
      "cell_type": "code",
      "metadata": {
        "colab": {
          "base_uri": "https://localhost:8080/",
          "height": 313
        },
        "id": "w3Otw8cu4S1r",
        "outputId": "cc4b5330-b35f-48ef-8ae4-b92e048f4f91"
      },
      "source": [
        "y_pred_prob = logreg.predict_proba(x_test)[:,1]\n",
        "precision, recall, thresholds = precision_recall_curve(y_test, y_pred_prob)\n",
        "plt.plot(precision, recall)\n",
        "plt.xlabel('Recall')\n",
        "plt.ylabel('Precision')\n",
        "plt.title('Precision Recall Curve')\n",
        "\n"
      ],
      "execution_count": 26,
      "outputs": [
        {
          "output_type": "execute_result",
          "data": {
            "text/plain": [
              "Text(0.5, 1.0, 'Precision Recall Curve')"
            ]
          },
          "metadata": {},
          "execution_count": 26
        },
        {
          "output_type": "display_data",
          "data": {
            "image/png": "[encoded data removed]",
            "text/plain": [
              "<Figure size 432x288 with 1 Axes>"
            ]
          },
          "metadata": {
            "needs_background": "light"
          }
        }
      ]
    },
    {
      "cell_type": "markdown",
      "metadata": {
        "id": "cnnI708Q4dti"
      },
      "source": [
        "We got a high recall which means our model is able to detect the highest number of fraud transactions, while the precision is very low which is not good because it means that the model classifies a lot of non-fraud transactions as fraud. The customers of a financial institution are not going to be satisfied with that fact and may even stop using the service of that financial institution. So in this case it's also important to have a high precision, which we are going to try to achieve with Random Forest"
      ]
    },
    {
      "cell_type": "markdown",
      "metadata": {
        "id": "JreZ0ifU4hsT"
      },
      "source": [
        "**Random Forest Classifier with SMOTE**"
      ]
    },
    {
      "cell_type": "code",
      "metadata": {
        "colab": {
          "base_uri": "https://localhost:8080/",
          "height": 442
        },
        "id": "WAu3hjmf4Zgv",
        "outputId": "9adaefe0-cdc3-46e2-9b1b-9a497b20e0e8"
      },
      "source": [
        "from sklearn.ensemble import RandomForestClassifier as rfc\n",
        "rand_f = rfc(n_estimators=1000, min_samples_split=10, min_samples_leaf=1,\n",
        "           max_features='auto', max_leaf_nodes=None,\n",
        "           oob_score=True, n_jobs=-1, random_state=1)\n",
        "rand_f.fit(x_train_s, y_train_s)\n",
        "y_pred = rand_f.predict(x_test)\n",
        "\n",
        "cnf_matrix = confusion_matrix(y_test, y_pred)\n",
        "sns.heatmap(pd.DataFrame(cnf_matrix), annot=True, cmap=\"YlGnBu\", fmt='g')\n",
        "plt.ylabel('Actual Label')\n",
        "plt.xlabel('Predicted Label')\n",
        "\n",
        "print(classification_report(y_test, y_pred))"
      ],
      "execution_count": 27,
      "outputs": [
        {
          "output_type": "stream",
          "name": "stdout",
          "text": [
            "              precision    recall  f1-score   support\n",
            "\n",
            "           0       1.00      1.00      1.00     56861\n",
            "           1       0.88      0.83      0.86       101\n",
            "\n",
            "    accuracy                           1.00     56962\n",
            "   macro avg       0.94      0.92      0.93     56962\n",
            "weighted avg       1.00      1.00      1.00     56962\n",
            "\n"
          ]
        },
        {
          "output_type": "display_data",
          "data": {
            "image/png": "[encoded data removed]",
            "text/plain": [
              "<Figure size 432x288 with 2 Axes>"
            ]
          },
          "metadata": {
            "needs_background": "light"
          }
        }
      ]
    },
    {
      "cell_type": "code",
      "metadata": {
        "colab": {
          "base_uri": "https://localhost:8080/",
          "height": 313
        },
        "id": "ID_2EvQK4nBZ",
        "outputId": "73bf013b-eaf5-4f72-bd6b-5cf65aaefcb2"
      },
      "source": [
        "y_pred_prob = rand_f.predict_proba(x_test)[:,1]\n",
        "precision, recall, thresholds = precision_recall_curve(y_test, y_pred_prob)\n",
        "plt.plot(precision, recall)\n",
        "plt.xlabel('Recall')\n",
        "plt.ylabel('Precision')\n",
        "plt.title('Precision Recall Curve')"
      ],
      "execution_count": 28,
      "outputs": [
        {
          "output_type": "execute_result",
          "data": {
            "text/plain": [
              "Text(0.5, 1.0, 'Precision Recall Curve')"
            ]
          },
          "metadata": {},
          "execution_count": 28
        },
        {
          "output_type": "display_data",
          "data": {
            "image/png": "[encoded data removed]",
            "text/plain": [
              "<Figure size 432x288 with 1 Axes>"
            ]
          },
          "metadata": {
            "needs_background": "light"
          }
        }
      ]
    },
    {
      "cell_type": "markdown",
      "metadata": {
        "id": "NGsQyReK42U9"
      },
      "source": [
        "\n",
        "\n",
        "---\n",
        "\n",
        "\n",
        "So Random Forest with SMOTE performed better than Logistic Regression overall allowing us to get high recall and high precision at the same time. Even though the recall has decreased a little bit, we were able to increase the precision significantly, which means a lot in the case of fraud detection and as we know it is a trade-off\n",
        "\n",
        "\n",
        "---\n",
        "\n",
        "\n",
        "\n",
        "---\n",
        "\n"
      ]
    },
    {
      "cell_type": "code",
      "metadata": {
        "id": "0PddQ4nb4pHK"
      },
      "source": [
        ""
      ],
      "execution_count": 28,
      "outputs": []
    }
  ]
}